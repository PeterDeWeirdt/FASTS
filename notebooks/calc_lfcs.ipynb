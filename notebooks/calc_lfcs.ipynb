{
 "cells": [
  {
   "cell_type": "code",
   "execution_count": 1,
   "metadata": {},
   "outputs": [],
   "source": [
    "import pandas as pd\n",
    "import gpplot\n",
    "import seaborn as sns\n",
    "import matplotlib.pyplot as plt"
   ]
  },
  {
   "cell_type": "code",
   "execution_count": 2,
   "metadata": {},
   "outputs": [],
   "source": [
    "gpplot.set_aesthetics(context = 'paper')"
   ]
  },
  {
   "cell_type": "code",
   "execution_count": 3,
   "metadata": {},
   "outputs": [],
   "source": [
    "lognorms = pd.read_table('../data/raw/lognorm-FASN_MOLM13_NOMO-1_AKS_ALG_v2.txt')\n",
    "library_df = pd.read_csv('../data/raw/Cas12_FASN_GI_12k_library.csv')"
   ]
  },
  {
   "cell_type": "markdown",
   "metadata": {},
   "source": [
    "### pDNA filtering"
   ]
  },
  {
   "cell_type": "code",
   "execution_count": 4,
   "metadata": {},
   "outputs": [
    {
     "name": "stderr",
     "output_type": "stream",
     "text": [
      "/Users/pdeweird/.local/share/virtualenvs/hart_lipid_metabolism-R5k7HHRA/lib/python3.8/site-packages/seaborn/distributions.py:2551: FutureWarning: `distplot` is a deprecated function and will be removed in a future version. Please adapt your code to use either `displot` (a figure-level function with similar flexibility) or `histplot` (an axes-level function for histograms).\n",
      "  warnings.warn(msg, FutureWarning)\n"
     ]
    },
    {
     "data": {
      "image/png": "[encoded data removed]",
      "text/plain": [
       "<Figure size 158.4x158.4 with 1 Axes>"
      ]
     },
     "metadata": {},
     "output_type": "display_data"
    }
   ],
   "source": [
    "pdna = lognorms[['Construct IDs', 'pDNA;FASN;RDA_052;;;;']].copy()\n",
    "pdna['pdna_z'] = (pdna['pDNA;FASN;RDA_052;;;;'] - pdna['pDNA;FASN;RDA_052;;;;'].mean())/pdna['pDNA;FASN;RDA_052;;;;'].std()\n",
    "fig, ax = plt.subplots(figsize=(2.2,2.2))\n",
    "sns.distplot(pdna['pdna_z'])\n",
    "plt.axvline(x = -3, linestyle = 'dashed')\n",
    "plt.xlabel('pDNA Z-score')\n",
    "gpplot.savefig('../figures/pdna_filter.pdf')"
   ]
  },
  {
   "cell_type": "code",
   "execution_count": 5,
   "metadata": {},
   "outputs": [],
   "source": [
    "filtered_pdna = pdna.loc[pdna['pdna_z'].abs() < 3, ['Construct IDs', 'pDNA;FASN;RDA_052;;;;']]"
   ]
  },
  {
   "cell_type": "code",
   "execution_count": 6,
   "metadata": {},
   "outputs": [
    {
     "name": "stdout",
     "output_type": "stream",
     "text": [
      "filtered 336 guides due to low pDNA abundance\n"
     ]
    }
   ],
   "source": [
    "print('filtered ' + str(pdna.shape[0] - filtered_pdna.shape[0]) + ' guides due to low pDNA abundance')"
   ]
  },
  {
   "cell_type": "markdown",
   "metadata": {},
   "source": [
    "### Calculating log-fold changes"
   ]
  },
  {
   "cell_type": "code",
   "execution_count": 7,
   "metadata": {},
   "outputs": [],
   "source": [
    "filtered_lognorms = lognorms.merge(filtered_pdna, how='inner', on=['Construct IDs', 'pDNA;FASN;RDA_052;;;;'])\n",
    "long_lognorms = (filtered_lognorms\n",
    "                 .drop(';;;;;;', axis=1)\n",
    "                 .melt(id_vars = ['Construct Barcode', 'Construct IDs', 'pDNA;FASN;RDA_052;;;;'], \n",
    "                       var_name = 'condition', value_name = 'lognorm'))\n",
    "long_lognorms['lfc'] = long_lognorms['lognorm'] - long_lognorms['pDNA;FASN;RDA_052;;;;']"
   ]
  },
  {
   "cell_type": "markdown",
   "metadata": {},
   "source": [
    "### Joinging log-fold changes"
   ]
  },
  {
   "cell_type": "code",
   "execution_count": 33,
   "metadata": {},
   "outputs": [
    {
     "data": {
      "image/png": "[encoded data removed]",
      "text/plain": [
       "<Figure size 180x180 with 4 Axes>"
      ]
     },
     "metadata": {},
     "output_type": "display_data"
    }
   ],
   "source": [
    "long_lognorms[['cell', 'library', 'rda', 'rep', 'day', 'treatment']] = long_lognorms.condition.str.split(';', n=5, expand=True)\n",
    "long_lognorms[['Cell Rep. Day']] = long_lognorms['cell'] + ' ' + long_lognorms['rep'] + ' ' + long_lognorms['day']\n",
    "pivoted_lfcs = long_lognorms.pivot(index='Construct IDs', columns = 'Cell Rep. Day', values = 'lfc')\n",
    "cor_mat = pivoted_lfcs.corr()\n",
    "ax = sns.clustermap(cor_mat, cmap = gpplot.style.sequential_cmap(), figsize=(2.5, 2.5), vmin=0, vmax=1, \n",
    "                    cbar_pos=(0.7, 0.2, 0.05, 0.2))\n",
    "gpplot.savefig('../figures/correlation_heatpmap.pdf')\n"
   ]
  },
  {
   "cell_type": "code",
   "execution_count": 9,
   "metadata": {},
   "outputs": [
    {
     "data": {
      "text/html": [
       "<div>\n",
       "<style scoped>\n",
       "    .dataframe tbody tr th:only-of-type {\n",
       "        vertical-align: middle;\n",
       "    }\n",
       "\n",
       "    .dataframe tbody tr th {\n",
       "        vertical-align: top;\n",
       "    }\n",
       "\n",
       "    .dataframe thead th {\n",
       "        text-align: right;\n",
       "    }\n",
       "</style>\n",
       "<table border=\"1\" class=\"dataframe\">\n",
       "  <thead>\n",
       "    <tr style=\"text-align: right;\">\n",
       "      <th></th>\n",
       "      <th>lfc</th>\n",
       "      <th>condition</th>\n",
       "      <th>gene1</th>\n",
       "      <th>gene2</th>\n",
       "      <th>guide1</th>\n",
       "      <th>guide2</th>\n",
       "    </tr>\n",
       "  </thead>\n",
       "  <tbody>\n",
       "    <tr>\n",
       "      <th>19221</th>\n",
       "      <td>-6.012602</td>\n",
       "      <td>MOLM13_21</td>\n",
       "      <td>GPX4</td>\n",
       "      <td>RXRB</td>\n",
       "      <td>ACGTTGTAGCCCGCGGCGAACTC</td>\n",
       "      <td>CCCGCTGACGCTCCTCCTGTACC</td>\n",
       "    </tr>\n",
       "    <tr>\n",
       "      <th>17221</th>\n",
       "      <td>-5.982397</td>\n",
       "      <td>MOLM13_21</td>\n",
       "      <td>GPX4</td>\n",
       "      <td>GLS2</td>\n",
       "      <td>ACGTTGTAGCCCGCGGCGAACTC</td>\n",
       "      <td>TCTGCAGATGGACTGTAACAAAG</td>\n",
       "    </tr>\n",
       "    <tr>\n",
       "      <th>18273</th>\n",
       "      <td>-5.974345</td>\n",
       "      <td>MOLM13_21</td>\n",
       "      <td>GPX4</td>\n",
       "      <td>MYB</td>\n",
       "      <td>ACGTTGTAGCCCGCGGCGAACTC</td>\n",
       "      <td>CATGTAACGCTACAGGGTATGGA</td>\n",
       "    </tr>\n",
       "    <tr>\n",
       "      <th>18765</th>\n",
       "      <td>-5.857009</td>\n",
       "      <td>MOLM13_21</td>\n",
       "      <td>GPX4</td>\n",
       "      <td>PMVK</td>\n",
       "      <td>ACGTTGTAGCCCGCGGCGAACTC</td>\n",
       "      <td>CTCTTGCCGCTGAACAGCAGTAC</td>\n",
       "    </tr>\n",
       "    <tr>\n",
       "      <th>18764</th>\n",
       "      <td>-5.793249</td>\n",
       "      <td>MOLM13_14</td>\n",
       "      <td>GPX4</td>\n",
       "      <td>PMVK</td>\n",
       "      <td>ACGTTGTAGCCCGCGGCGAACTC</td>\n",
       "      <td>CTCTTGCCGCTGAACAGCAGTAC</td>\n",
       "    </tr>\n",
       "    <tr>\n",
       "      <th>...</th>\n",
       "      <td>...</td>\n",
       "      <td>...</td>\n",
       "      <td>...</td>\n",
       "      <td>...</td>\n",
       "      <td>...</td>\n",
       "      <td>...</td>\n",
       "    </tr>\n",
       "    <tr>\n",
       "      <th>31983</th>\n",
       "      <td>3.977348</td>\n",
       "      <td>NOMO-1_21</td>\n",
       "      <td>PTEN</td>\n",
       "      <td>FABP6</td>\n",
       "      <td>TGTCCACCAGGGAGTAACTATTC</td>\n",
       "      <td>CGATTACATCGCTGGAGATCCCT</td>\n",
       "    </tr>\n",
       "    <tr>\n",
       "      <th>44025</th>\n",
       "      <td>4.037900</td>\n",
       "      <td>MOLM13_21</td>\n",
       "      <td>TP53</td>\n",
       "      <td>CHP1</td>\n",
       "      <td>CTTCCACTCGGATAAGATGCTGA</td>\n",
       "      <td>ACAATCAGAGAGGACCAGGTAAA</td>\n",
       "    </tr>\n",
       "    <tr>\n",
       "      <th>44729</th>\n",
       "      <td>4.075741</td>\n",
       "      <td>MOLM13_21</td>\n",
       "      <td>TP53</td>\n",
       "      <td>GPAT4</td>\n",
       "      <td>CCAACTGGCCAAGACCTGCCCTG</td>\n",
       "      <td>GCAAGTATCCCACCACAGTTGTG</td>\n",
       "    </tr>\n",
       "    <tr>\n",
       "      <th>44741</th>\n",
       "      <td>4.111909</td>\n",
       "      <td>MOLM13_21</td>\n",
       "      <td>TP53</td>\n",
       "      <td>GPAT4</td>\n",
       "      <td>CTTCCACTCGGATAAGATGCTGA</td>\n",
       "      <td>GCAAGTATCCCACCACAGTTGTG</td>\n",
       "    </tr>\n",
       "    <tr>\n",
       "      <th>44017</th>\n",
       "      <td>4.246209</td>\n",
       "      <td>MOLM13_21</td>\n",
       "      <td>TP53</td>\n",
       "      <td>CHP1</td>\n",
       "      <td>CCAACTGGCCAAGACCTGCCCTG</td>\n",
       "      <td>GCTCCTTACAGTGCAGTTTGTTG</td>\n",
       "    </tr>\n",
       "  </tbody>\n",
       "</table>\n",
       "<p>48464 rows × 6 columns</p>\n",
       "</div>"
      ],
      "text/plain": [
       "            lfc  condition gene1  gene2                   guide1  \\\n",
       "19221 -6.012602  MOLM13_21  GPX4   RXRB  ACGTTGTAGCCCGCGGCGAACTC   \n",
       "17221 -5.982397  MOLM13_21  GPX4   GLS2  ACGTTGTAGCCCGCGGCGAACTC   \n",
       "18273 -5.974345  MOLM13_21  GPX4    MYB  ACGTTGTAGCCCGCGGCGAACTC   \n",
       "18765 -5.857009  MOLM13_21  GPX4   PMVK  ACGTTGTAGCCCGCGGCGAACTC   \n",
       "18764 -5.793249  MOLM13_14  GPX4   PMVK  ACGTTGTAGCCCGCGGCGAACTC   \n",
       "...         ...        ...   ...    ...                      ...   \n",
       "31983  3.977348  NOMO-1_21  PTEN  FABP6  TGTCCACCAGGGAGTAACTATTC   \n",
       "44025  4.037900  MOLM13_21  TP53   CHP1  CTTCCACTCGGATAAGATGCTGA   \n",
       "44729  4.075741  MOLM13_21  TP53  GPAT4  CCAACTGGCCAAGACCTGCCCTG   \n",
       "44741  4.111909  MOLM13_21  TP53  GPAT4  CTTCCACTCGGATAAGATGCTGA   \n",
       "44017  4.246209  MOLM13_21  TP53   CHP1  CCAACTGGCCAAGACCTGCCCTG   \n",
       "\n",
       "                        guide2  \n",
       "19221  CCCGCTGACGCTCCTCCTGTACC  \n",
       "17221  TCTGCAGATGGACTGTAACAAAG  \n",
       "18273  CATGTAACGCTACAGGGTATGGA  \n",
       "18765  CTCTTGCCGCTGAACAGCAGTAC  \n",
       "18764  CTCTTGCCGCTGAACAGCAGTAC  \n",
       "...                        ...  \n",
       "31983  CGATTACATCGCTGGAGATCCCT  \n",
       "44025  ACAATCAGAGAGGACCAGGTAAA  \n",
       "44729  GCAAGTATCCCACCACAGTTGTG  \n",
       "44741  GCAAGTATCCCACCACAGTTGTG  \n",
       "44017  GCTCCTTACAGTGCAGTTTGTTG  \n",
       "\n",
       "[48464 rows x 6 columns]"
      ]
     },
     "execution_count": 9,
     "metadata": {},
     "output_type": "execute_result"
    }
   ],
   "source": [
    "avg_lfcs = (long_lognorms.groupby(['Construct IDs', 'cell', 'library','day'])\n",
    "            .agg({'lfc': 'mean'})\n",
    "            .reset_index())\n",
    "avg_lfcs['condition'] = avg_lfcs['cell'] + '_' + avg_lfcs['day']\n",
    "avg_lfcs = avg_lfcs.drop(['cell', 'library', 'day'], axis=1)\n",
    "avg_lfcs[['gene_pair', 'sequence']] = avg_lfcs['Construct IDs'].str.split(';', expand=True)\n",
    "avg_lfcs[['gene1', 'gene2']] = avg_lfcs.gene_pair.str.split(':', expand=True)\n",
    "avg_lfcs[['guide1', 'DR', 'guide2']] = avg_lfcs.sequence.str.split(':', expand=True)\n",
    "avg_lfcs = avg_lfcs.drop(['DR', 'sequence', 'gene_pair', 'Construct IDs'], axis=1)\n",
    "avg_lfcs.sort_values('lfc')"
   ]
  },
  {
   "cell_type": "code",
   "execution_count": 10,
   "metadata": {},
   "outputs": [],
   "source": [
    "spread_avg_lfcs = (avg_lfcs.pivot_table(index = ['guide1', 'guide2', 'gene1', 'gene2'], \n",
    "                                        columns = 'condition', values = 'lfc')\n",
    "                   .reset_index())"
   ]
  },
  {
   "cell_type": "code",
   "execution_count": 11,
   "metadata": {},
   "outputs": [],
   "source": [
    "spread_avg_lfcs.to_csv('../data/interim/FASN_avg_lfcs.csv', index=False)"
   ]
  },
  {
   "cell_type": "markdown",
   "metadata": {},
   "source": [
    "## Positive control pairs"
   ]
  },
  {
   "cell_type": "code",
   "execution_count": null,
   "metadata": {},
   "outputs": [],
   "source": []
  }
 ],
 "metadata": {
  "kernelspec": {
   "display_name": "hart_lipid_metabolism",
   "language": "python",
   "name": "hart_lipid_metabolism"
  },
  "language_info": {
   "codemirror_mode": {
    "name": "ipython",
    "version": 3
   },
   "file_extension": ".py",
   "mimetype": "text/x-python",
   "name": "python",
   "nbconvert_exporter": "python",
   "pygments_lexer": "ipython3",
   "version": "3.8.3"
  }
 },
 "nbformat": 4,
 "nbformat_minor": 4
}
